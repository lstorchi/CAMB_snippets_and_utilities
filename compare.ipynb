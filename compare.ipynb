{
 "cells": [
  {
   "cell_type": "code",
   "execution_count": 1,
   "metadata": {},
   "outputs": [],
   "source": [
    "import pandas as pd\n",
    "import numpy as np\n",
    "\n",
    "dfs = []\n",
    "for fname in ['high_acc_lensedCls.dat', \\\n",
    "            'high_acc_lenspotentialCls.dat', \\\n",
    "            'high_acc_python.txt', \\\n",
    "            'high_acc_scalarCovCls.dat', \\\n",
    "            'high_acc_scalCls.dat']:\n",
    "    fp = open(fname, 'r')\n",
    "    lines = fp.readlines()\n",
    "    fp.close()\n",
    "\n",
    "    # merge mutiple spaces into one\n",
    "    lines = [' '.join(line.split()) for line in lines]\n",
    "    header = lines[0]\n",
    "    header = header.split()\n",
    "    header = header[1:]\n",
    "    lines = lines[1:]\n",
    "    \n",
    "    dictdf = {}\n",
    "    for h in header:\n",
    "        dictdf[h] = []\n",
    "    \n",
    "    for line in lines:\n",
    "        line = line.split()\n",
    "        for i, h in enumerate(header):\n",
    "            #print (h, line[i], np.float64(line[i]))\n",
    "            dictdf[h].append(np.float64(line[i]))\n",
    "    \n",
    "    df = pd.DataFrame(dictdf)\n",
    "    dfs.append(df)"
   ]
  },
  {
   "cell_type": "code",
   "execution_count": 4,
   "metadata": {},
   "outputs": [],
   "source": [
    "\n",
    "refdfs = []\n",
    "\n",
    "for fname in ['refout/high_acc_lensedCls.dat',\n",
    "            'refout/high_acc_lenspotentialCls.dat',\n",
    "            'refout/high_acc_python.txt',\n",
    "            'refout/high_acc_scalarCovCls.dat',\n",
    "            'refout/high_acc_scalCls.dat']:\n",
    "    fp = open(fname, 'r')\n",
    "    lines = fp.readlines()\n",
    "    fp.close()\n",
    "\n",
    "    # merge mutiple spaces into one\n",
    "    lines = [' '.join(line.split()) for line in lines]\n",
    "    header = lines[0]\n",
    "    header = header.split()\n",
    "    header = header[1:]\n",
    "    lines = lines[1:]\n",
    "\n",
    "    dictdf = {}\n",
    "    for h in header:\n",
    "        dictdf[h] = []\n",
    "\n",
    "    for line in lines:\n",
    "        line = line.split()\n",
    "        for i, h in enumerate(header):\n",
    "            #print (h, line[i], np.float64(line[i]))\n",
    "            dictdf[h].append(np.float64(line[i]))\n",
    "\n",
    "    dfref = pd.DataFrame(dictdf)\n",
    "    refdfs.append(dfref)"
   ]
  },
  {
   "cell_type": "code",
   "execution_count": 5,
   "metadata": {},
   "outputs": [],
   "source": [
    "assert len(dfs) == len(refdfs)"
   ]
  },
  {
   "cell_type": "code",
   "execution_count": 8,
   "metadata": {},
   "outputs": [
    {
     "name": "stdout",
     "output_type": "stream",
     "text": [
      "Min diff =   0.00 %\n",
      "Max diff =   0.00 %\n",
      "Min diff =   0.00 %\n",
      "Max diff =   0.06 %\n",
      "Min diff =   0.00 %\n",
      "Max diff =   0.02 %\n",
      "Min diff =   0.00 %\n",
      "Max diff =   0.06 %\n",
      "Min diff =   0.00 %\n",
      "Max diff =   0.06 %\n"
     ]
    }
   ],
   "source": [
    "for df, dfref in zip(dfs, refdfs):\n",
    "    \n",
    "    differences  = np.zeros(df.values.shape)\n",
    "    for i, v in enumerate(df.values):\n",
    "        for j, vv in enumerate(v):\n",
    "            diff = abs(df.values[i][j] - dfref.values[i][j])\n",
    "            if df.values[i][j] != 0 and dfref.values[i][j] != 0:\n",
    "                differences[i][j] = 100.0 * diff / abs(dfref.values[i][j])\n",
    "            else:\n",
    "                if diff != 0.0:\n",
    "                    print(\"Warning: %10.8e %10.8e\" % (df.values[i][j], dfref.values[i][j]))\n",
    "    \n",
    "    print(\"Min diff = %6.2f\"%(np.min(differences)), \"%\")\n",
    "    print(\"Max diff = %6.2f\"%(np.max(differences)), \"%\")"
   ]
  }
 ],
 "metadata": {
  "kernelspec": {
   "display_name": "base",
   "language": "python",
   "name": "python3"
  },
  "language_info": {
   "codemirror_mode": {
    "name": "ipython",
    "version": 3
   },
   "file_extension": ".py",
   "mimetype": "text/x-python",
   "name": "python",
   "nbconvert_exporter": "python",
   "pygments_lexer": "ipython3",
   "version": "3.9.12"
  }
 },
 "nbformat": 4,
 "nbformat_minor": 2
}
